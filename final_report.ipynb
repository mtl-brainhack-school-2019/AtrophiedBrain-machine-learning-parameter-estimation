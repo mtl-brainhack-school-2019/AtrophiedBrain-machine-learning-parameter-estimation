{
 "cells": [
  {
   "cell_type": "markdown",
   "metadata": {
    "slideshow": {
     "slide_type": "slide"
    }
   },
   "source": [
    "# Brain Modeling\n",
    "<img src=\"https://cdn3.volusion.com/asheg.almgm/v/vspfiles/photos/KP-01-3.jpg?1511350427\">\n",
    "<img src=\"https://i.ytimg.com/vi/wgxUFs3aDR8/maxresdefault.jpg\">\n"
   ]
  },
  {
   "cell_type": "markdown",
   "metadata": {
    "slideshow": {
     "slide_type": "slide"
    }
   },
   "source": [
    "## Tools/Languages used (Open Science Best Practices!)\n",
    "\n",
    "<div>\n",
    "<div style=\"float: left; width=300px\">\n",
    "<img src=\"https://logodix.com/logo/729548.png\" width=96> Python\n",
    "<img src=\"https://image.flaticon.com/icons/svg/25/25231.svg\" width=96> GitHub\n",
    "<img src=\"https://res-2.cloudinary.com/crunchbase-production/image/upload/c_lpad,h_256,w_256,f_auto,q_auto:eco/v1463481639/zkwcls2ljise1px6w3l6.png\" width=96> Jupyter Notebooks\n",
    "<img src=\"https://www.pngkit.com/png/full/861-8618685_numfocus-plotly-dash-logo.png\" width=96> Dash, by Plotly\n",
    "</div>\n",
    "<div style=\"width=300px; float:left;\">\n",
    "<img src=\"https://static.nvidiagrid.net/ngc/containers/pytorch-logo-light.png\" width=96> PyTorch\n",
    "<img src=\"https://upload.wikimedia.org/wikipedia/commons/6/69/Julia_prog_language.svg\" width=96> Julia\n",
    "<img src=\"https://raw.githubusercontent.com/FluxML/fluxml.github.io/master/logo.png\" width=96> Flux.jl\n",
    "</div>\n",
    "</div>"
   ]
  },
  {
   "cell_type": "markdown",
   "metadata": {
    "slideshow": {
     "slide_type": "slide"
    }
   },
   "source": [
    "## Skills and technologies learnt\n",
    "<img src=\"https://i.vas3k.ru/7w1.jpg\">\n",
    "https://vas3k.com/blog/machine_learning/"
   ]
  },
  {
   "cell_type": "markdown",
   "metadata": {
    "slideshow": {
     "slide_type": "slide"
    }
   },
   "source": [
    "## Brain Development\n",
    "\n",
    "<img src=\"https://github.com/mtl-brainhack-school-2019/AtrophiedBrain-machine-learning-parameter-estimation/raw/master/figures/obj2model2.gif\" width=1400>\n",
    "http://www.bic.mni.mcgill.ca/~vfonov/obj2/video_2.htm\n",
    "\n"
   ]
  },
  {
   "cell_type": "markdown",
   "metadata": {
    "hide_input": true,
    "slideshow": {
     "slide_type": "slide"
    }
   },
   "source": [
    "## Cortical Thickness Dashboard\n",
    "This dashboard displays lifespan cortical thickness values for all regions of the cortex."
   ]
  },
  {
   "cell_type": "code",
   "execution_count": 1,
   "metadata": {
    "slideshow": {
     "slide_type": "slide"
    }
   },
   "outputs": [],
   "source": [
    "import h5py\n",
    "import numpy as np\n",
    "import pandas as pd\n",
    "from collections import OrderedDict\n",
    "import dash\n",
    "import dash_core_components as dcc\n",
    "import dash_html_components as html\n",
    "from dash.dependencies import Input, Output\n",
    "from mni import create_mesh_data, default_colorscale\n",
    "import plotly.graph_objs as go\n",
    "import copy\n",
    "from jupyter_plotly_dash import JupyterDash\n",
    "\n",
    "# Import cortical thickness and connectivity data\n",
    "with h5py.File(\"ct_data.hdf5\", 'r') as f:\n",
    "    ages = f[\"ages\"][()]\n",
    "    ct_data = f[\"ct_data\"][()]\n",
    "\n",
    "ct_data = np.reshape(ct_data, (ct_data.shape[0], ct_data.shape[1]))\n",
    "\n",
    "# Remove data for regions not in DKT atlas (left6, right6)\n",
    "ct_data = np.delete(ct_data, [5, 32 + 5], 1)\n",
    "\n",
    "# Sort data by age\n",
    "indices = ages.argsort()\n",
    "ages.sort()\n",
    "ct_data = ct_data[indices, :]\n",
    "cortical_conn = cortical_conn[indices, :]\n",
    "\n",
    "# Import DKT atlas data\n",
    "with h5py.File(\"atlases.hdf5\", 'r') as fa:\n",
    "    dkt_ids_cortex = fa['gm/dkt/id_cortex'][()]\n",
    "    region_names = fa['gm/dkt/name'][()]\n",
    "\n",
    "regions = OrderedDict()\n",
    "for i in np.arange(0, len(region_names)):\n",
    "    if dkt_ids_cortex[i] != 'nan':\n",
    "        id = int(dkt_ids_cortex[i])\n",
    "        regions[id] = region_names[i]\n",
    "\n",
    "# Import DKT conversions\n",
    "dkt = pd.read_csv('data/dkt_conv.csv', sep='\\t', names=['name', 'region'], header=None, skiprows=1)\n",
    "\n",
    "# Define data options\n",
    "data_options = ['Data & Trend Line', 'Data only', 'Trend Line only']\n",
    "\n",
    "\n",
    "def estimate1param(rate, times, initial, step):\n",
    "    output = np.zeros(times.shape[0])\n",
    "    output[0] = initial\n",
    "    i = 1\n",
    "    for time in times[1:]:\n",
    "        last = output[i - 1]\n",
    "\n",
    "        deriv = rate * last\n",
    "        output[i] = last + deriv * step\n",
    "        i += 1\n",
    "\n",
    "    return output\n",
    "\n",
    "\n",
    "def estimate2param(iroc, eroc, times, initial, step):\n",
    "    output = np.zeros((times.shape[0], len(initial)))\n",
    "    output[0, :] = initial\n",
    "    i = 1\n",
    "    for time in times[1:]:\n",
    "        last = output[i - 1, :]\n",
    "\n",
    "        at = iroc * last\n",
    "\n",
    "        m = np.tile(last, (len(initial), 1))\n",
    "        np.fill_diagonal(m, 0.0)\n",
    "        bt = np.sum(eroc * m.sum(-1))\n",
    "\n",
    "        deriv = at + bt\n",
    "        output[i, :] = last + deriv * step\n",
    "        i += 1\n",
    "\n",
    "    return output\n",
    "\n",
    "\n",
    "cached_mesh = create_mesh_data(\"human_atlas\", -1)\n",
    "\n",
    "app = JupyterDash(\"CT Dashboard\")\n",
    "app.width=\"1900px\"\n",
    "app.height=\"900px\"\n",
    "\n",
    "app2 = JupyterDash(\"CT 1 param Simulator\")\n",
    "app2.width=\"1900px\"\n",
    "app2.height=\"900px\"\n",
    "\n",
    "app3 = JupyterDash(\"CT 2 param Simulator\")\n",
    "app3.width=\"1900px\"\n",
    "app3.height=\"900px\"\n",
    "\n",
    "axis_template = {\n",
    "    \"showbackground\": True,\n",
    "    #   \"backgroundcolor\": \"#141414\",\n",
    "    \"gridcolor\": \"rgb(255, 255, 255)\",\n",
    "    \"zerolinecolor\": \"rgb(255, 255, 255)\",\n",
    "}\n",
    "\n",
    "plot_layout = {\n",
    "    \"title\": \"\",\n",
    "    \"margin\": {\"t\": 0, \"b\": 0, \"l\": 0, \"r\": 0},\n",
    "    \"font\": {\"size\": 12, \"color\": \"black\"},\n",
    "    \"showlegend\": False,\n",
    "    # \"plot_bgcolor\": \"#141414\",\n",
    "    # \"paper_bgcolor\": \"#141414\",\n",
    "    \"scene\": {\n",
    "        \"xaxis\": axis_template,\n",
    "        \"yaxis\": axis_template,\n",
    "        \"zaxis\": axis_template,\n",
    "        \"aspectratio\": {\"x\": 1, \"y\": 1.2, \"z\": 1},\n",
    "        \"camera\": {\"eye\": {\"x\": 1.25, \"y\": 1.25, \"z\": 1.25}},\n",
    "        \"annotations\": [],\n",
    "    },\n",
    "}\n",
    "\n",
    "\n",
    "app.layout = html.Div([\n",
    "    dcc.Markdown('## Lifespan Cortical Thickness Data'),\n",
    "    # Options for CT graphic\n",
    "    html.Div(id='ct-graphic-options-div'),\n",
    "\n",
    "\n",
    "    # CT graphic\n",
    "    html.Div([\n",
    "        html.Div([\n",
    "            html.Div([\n",
    "                html.Div([\n",
    "                    dcc.Markdown('Region:'),\n",
    "                    dcc.Dropdown(\n",
    "                        id='region',\n",
    "                        options=[{'label': regions[i], 'value': regions[i]} for i in regions],\n",
    "                        value=regions[25]\n",
    "                    ),\n",
    "                ],\n",
    "                    style={'width': '30%', 'display': 'inline-block'}),\n",
    "\n",
    "                html.Div([\n",
    "                    dcc.Markdown('Plot Components:'),\n",
    "                    dcc.Dropdown(\n",
    "                        id='display_data',\n",
    "                        options=[{'label': i, 'value': i} for i in data_options],\n",
    "                        value=data_options[0]\n",
    "                    ),\n",
    "                ], style={'width': '22%', 'float': 'right', 'display': 'inline-block'}),\n",
    "                ], style={'width': '60%'}),\n",
    "            dcc.Graph(id='ct-graphic'),\n",
    "        ],\n",
    "            style={'width': '70%', 'display': 'inline-block'}),\n",
    "\n",
    "        html.Div([\n",
    "            dcc.Graph(\n",
    "                id=\"brain-graph\",\n",
    "                figure={\n",
    "                    \"data\": cached_mesh,\n",
    "                    \"layout\": plot_layout,\n",
    "                },\n",
    "                config={\"editable\": True, \"scrollZoom\": False},\n",
    "            )\n",
    "        ],\n",
    "            style={'width': '30%', 'float': 'right', 'display': 'inline-block'}),\n",
    "    ]),\n",
    "\n",
    "    \n",
    "    \n",
    "])\n",
    "\n",
    "app2.layout = html.Div([\n",
    "    # CT simulator\n",
    "    dcc.Markdown('## Single Parameter Model Simulation'),\n",
    "    html.Div([\n",
    "        html.Div([\n",
    "            # CT simulator graphic\n",
    "            dcc.Graph(id='ct-simulator'),\n",
    "        ],\n",
    "            style={'width': '75%', 'display': 'inline-block'}),\n",
    "\n",
    "        html.Div([\n",
    "            # dcc.Markdown('Options:'),\n",
    "            html.P('Initial CT value:'),\n",
    "            dcc.Input(id='initial_ct', placeholder='Enter initial CT value...',\n",
    "                      type='text', value='3.83', style={'width': '40px'}),\n",
    "            # html.Label('Rate of Change:'),\n",
    "            html.P(),\n",
    "            html.P('Rate of Change:'),\n",
    "            dcc.Slider(\n",
    "                id='roc',\n",
    "                min=-0.05,\n",
    "                max=0.05,\n",
    "                step=0.005,\n",
    "                value=-0.03,\n",
    "                marks={\n",
    "                    -0.05: 'Max Atrophy',\n",
    "                    0: 'No Change',\n",
    "                    0.05: 'Max Growth'\n",
    "                },\n",
    "            ),\n",
    "            html.P('Ages:'),\n",
    "            dcc.RangeSlider(\n",
    "                id='age_slider',\n",
    "                count=1,\n",
    "                min=1,\n",
    "                max=90,\n",
    "                step=0.5,\n",
    "                value=[7, 85],\n",
    "                marks={0: '0', 50: '50', 90: '90'}\n",
    "                # marks={i: '{}'.format(i) for i in np.arange(1, 85, 10)}\n",
    "            )\n",
    "        ], style={'width': '25%', 'float': 'right', 'display': 'inline-block'}),\n",
    "    ])\n",
    "    ])\n",
    "\n",
    "app3.layout = html.Div([\n",
    "    # CT 2 model simulator\n",
    "    dcc.Markdown('## Two Parameter Model Simulation'),\n",
    "    html.Div([\n",
    "        html.Div([\n",
    "            # CT simulator graphic\n",
    "            dcc.Graph(id='ct-simulator2'),\n",
    "        ],\n",
    "            style={'width': '75%', 'display': 'inline-block'}),\n",
    "\n",
    "        html.Div([\n",
    "            # dcc.Markdown('Options:'),\n",
    "            html.P('Initial CT value:'),\n",
    "            dcc.Input(id='initial_ct2', placeholder='Enter initial CT value...',\n",
    "                      type='text', value='3.83', style={'width': '40px'}),\n",
    "            # html.Label('Rate of Change:'),\n",
    "            html.P(),\n",
    "            html.P('Internal Rate of Change:'),\n",
    "            dcc.Slider(\n",
    "                id='iroc',\n",
    "                min=-0.05,\n",
    "                max=0.05,\n",
    "                step=0.005,\n",
    "                value=-0.03,\n",
    "                marks={\n",
    "                    -0.05: 'Max Atrophy',\n",
    "                    0: 'No Change',\n",
    "                    0.05: 'Max Growth'\n",
    "                },\n",
    "            ),\n",
    "            html.P(),\n",
    "            html.P('External Rate of Change:'),\n",
    "            dcc.Slider(\n",
    "                id='eroc',\n",
    "                min=-0.005,\n",
    "                max=0.005,\n",
    "                step=0.0005,\n",
    "                value=0.003,\n",
    "                marks={\n",
    "                    -0.005: 'Max Atrophy',\n",
    "                    0: 'No Change',\n",
    "                    0.005: 'Max Growth'\n",
    "                },\n",
    "            ),\n",
    "            html.P('Ages:'),\n",
    "            dcc.RangeSlider(\n",
    "                id='age_slider2',\n",
    "                count=1,\n",
    "                min=1,\n",
    "                max=90,\n",
    "                step=0.5,\n",
    "                value=[7, 85],\n",
    "                marks={0: '0', 50: '50', 90: '90'}\n",
    "                # marks={i: '{}'.format(i) for i in np.arange(1, 85, 10)}\n",
    "            )\n",
    "        ], style={'width': '25%', 'float': 'right', 'display': 'inline-block'}),\n",
    "    ])\n",
    "    ])\n",
    "\n",
    "\n",
    "def get_polynomial_trajectory(times, region_count, values, ages, degree):\n",
    "    val = np.zeros((times.shape[0], region_count))\n",
    "    for i in range(0, region_count):\n",
    "        f = np.poly1d(np.polyfit(ages, values[:, i], degree))\n",
    "        val[:, i] = f(times)\n",
    "\n",
    "    return val\n",
    "\n",
    "\n",
    "@app.callback(\n",
    "    Output('ct-graphic', 'figure'),\n",
    "    [Input(component_id='region', component_property='value'),\n",
    "     Input(component_id='display_data', component_property='value')]\n",
    ")\n",
    "def update_ct_graphic(r, dd):\n",
    "    if r is not None:\n",
    "        id = -1\n",
    "        # print(r)\n",
    "        if dkt['name'].str.contains(r).any():\n",
    "            try:\n",
    "                id = dkt.index[dkt['name'] == r][0]\n",
    "            except:\n",
    "                id = -1\n",
    "\n",
    "        outs = []\n",
    "        # print(id)\n",
    "        if dd != \"Trend Line only\":\n",
    "            outs.append(go.Scatter(x=ages, y=ct_data[:, id], mode='markers', name='Data'))\n",
    "\n",
    "        if dd != \"Data only\":\n",
    "            traj = get_polynomial_trajectory(ages, 62, ct_data, ages, 3)\n",
    "\n",
    "            outs.append(go.Scatter(x=ages, y=traj[:, id], name='Trend line'))\n",
    "\n",
    "        if id >= 0:\n",
    "            return {\n",
    "                'data': outs,\n",
    "                'layout': go.Layout(\n",
    "                    xaxis={'title': 'Age (years)'},\n",
    "                    yaxis={'title': '%s CT (cm)' % (r), 'range': [0, 4]},\n",
    "                    margin={'l': 40, 'b': 40, 't': 10, 'r': 10},\n",
    "                    legend={'x': 0, 'y': 1},\n",
    "                    hovermode='closest')\n",
    "            }\n",
    "        else:\n",
    "            return {'data': []}\n",
    "    else:\n",
    "        return {'data': []}\n",
    "\n",
    "\n",
    "@app.callback(\n",
    "    Output('brain-graph', 'figure'),\n",
    "    [Input(component_id='region', component_property='value')]\n",
    ")\n",
    "def update_brain_graphic(r):\n",
    "    if r is not None:\n",
    "        # print(r)\n",
    "        if dkt['name'].str.contains(r).any():\n",
    "            try:\n",
    "                region = dkt.loc[dkt['name'] == r]['region'].iloc[0]\n",
    "            except:\n",
    "                region = -1\n",
    "        else:\n",
    "            region = -1\n",
    "\n",
    "        if region > -1:\n",
    "            # Import views\n",
    "            views = pd.read_csv('data/views.txt', delim_whitespace=True)\n",
    "\n",
    "            x = views[views['region'] == region]['x'].iloc[0]\n",
    "            y = views[views['region'] == region]['y'].iloc[0]\n",
    "            z = views[views['region'] == region]['z'].iloc[0]\n",
    "\n",
    "            # print(region)\n",
    "            # print(x)\n",
    "            # print(y)\n",
    "            # print(z)\n",
    "            # print(views.head())\n",
    "\n",
    "            plot_layout['scene']['camera']['eye'] = {\"x\": x, \"y\": y, \"z\": z}\n",
    "        else:\n",
    "            plot_layout['scene']['camera']['eye'] = {\"x\": -1.25, \"y\": 1.25, \"z\": 1.25}\n",
    "\n",
    "        temp_mesh = copy.deepcopy(cached_mesh)\n",
    "\n",
    "        if region >= 0:\n",
    "            temp_mesh[0]['intensity'][temp_mesh[0]['intensity'] != region] = 0\n",
    "\n",
    "        return {\n",
    "            'data': temp_mesh, #create_mesh_data(\"human_atlas\", region),\n",
    "            'layout': plot_layout\n",
    "        }\n",
    "    else:\n",
    "        plot_layout['scene']['camera']['eye'] = {\"x\": -1.25, \"y\": 1.25, \"z\": 1.25}\n",
    "\n",
    "        return {\n",
    "            'data': cached_mesh, #create_mesh_data(\"human_atlas\", region),\n",
    "            'layout': plot_layout\n",
    "        }\n",
    "\n",
    "\n",
    "@app2.callback(\n",
    "    Output('ct-simulator', 'figure'),\n",
    "    [Input(component_id='initial_ct', component_property='value'),\n",
    "     Input(component_id='roc', component_property='value'),\n",
    "     Input(component_id='age_slider', component_property='value')]\n",
    ")\n",
    "def update_ct_graphic(init_ct, roc, age_slider):\n",
    "    ic = float(init_ct)\n",
    "    mina = age_slider[0]\n",
    "    maxa = age_slider[1]\n",
    "\n",
    "    times = np.arange(mina, maxa, 0.5)\n",
    "    estims = estimate1param(roc, times, ic, 0.5)\n",
    "\n",
    "    outs = []\n",
    "    outs.append(go.Scatter(x=times, y=estims, mode='markers', name='Data'))\n",
    "\n",
    "    if roc < 0.0:\n",
    "        range = [0, ic+1.0]\n",
    "    else:\n",
    "        range = [0, max(estims)+1.0]\n",
    "\n",
    "    return {\n",
    "        'data': outs,\n",
    "        'layout': go.Layout(\n",
    "            xaxis={'title': 'Age (years)'},\n",
    "            yaxis={'title': 'Simulated CT (cm)', 'range': range},\n",
    "            margin={'l': 40, 'b': 40, 't': 10, 'r': 10},\n",
    "            legend={'x': 0, 'y': 1},\n",
    "            hovermode='closest')\n",
    "    }\n",
    "\n",
    "\n",
    "@app3.callback(\n",
    "    Output('ct-simulator2', 'figure'),\n",
    "    [Input(component_id='initial_ct2', component_property='value'),\n",
    "     Input(component_id='iroc', component_property='value'),\n",
    "     Input(component_id='eroc', component_property='value'),\n",
    "     Input(component_id='age_slider2', component_property='value')]\n",
    ")\n",
    "def update_ct_graphic2(init_ct, iroc, eroc, age_slider):\n",
    "    ic = float(init_ct)\n",
    "    mina = age_slider[0]\n",
    "    maxa = age_slider[1]\n",
    "\n",
    "    times = np.arange(mina, maxa, 0.5)\n",
    "    estims = estimate2param(iroc, eroc, times, [ic, 2.78, 3.44], 0.5)\n",
    "\n",
    "    outs = []\n",
    "    outs.append(go.Scatter(x=times, y=estims[:, 0], mode='markers', name='Region 1'))\n",
    "    outs.append(go.Scatter(x=times, y=estims[:, 1], mode='markers', name='Region 2'))\n",
    "    outs.append(go.Scatter(x=times, y=estims[:, 2], mode='markers', name='Region 3'))\n",
    "\n",
    "    if iroc < 0.0:\n",
    "        range = [0, ic+1.0]\n",
    "    else:\n",
    "        range = [0, max(estims[:, 0])+1.0]\n",
    "\n",
    "    return {\n",
    "        'data': outs,\n",
    "        'layout': go.Layout(\n",
    "            xaxis={'title': 'Age (years)'},\n",
    "            yaxis={'title': 'Simulated CT (cm)', 'range': range},\n",
    "            margin={'l': 40, 'b': 40, 't': 10, 'r': 10},\n",
    "            legend={'x': 0, 'y': 1},\n",
    "            hovermode='closest')\n",
    "    }"
   ]
  },
  {
   "cell_type": "code",
   "execution_count": 2,
   "metadata": {
    "slideshow": {
     "slide_type": "slide"
    }
   },
   "outputs": [
    {
     "data": {
      "text/html": [
       "<div>\n",
       "  <iframe src=\"/app/endpoints/42d41a82ae324d3cb6ee5bc57e65f7af/\" width=1900px height=900px frameborder=\"0\"></iframe>\n",
       "  <hr/><a href=\"/app/endpoints/42d41a82ae324d3cb6ee5bc57e65f7af/\" target=\"_new\">Open in new window</a> for /app/endpoints/42d41a82ae324d3cb6ee5bc57e65f7af/\n",
       "</div>"
      ],
      "text/plain": [
       "<jupyter_plotly_dash.dash_wrapper.JupyterDash at 0x2263d722978>"
      ]
     },
     "execution_count": 2,
     "metadata": {},
     "output_type": "execute_result"
    }
   ],
   "source": [
    "app"
   ]
  },
  {
   "cell_type": "code",
   "execution_count": 3,
   "metadata": {
    "slideshow": {
     "slide_type": "slide"
    }
   },
   "outputs": [
    {
     "data": {
      "text/html": [
       "<div>\n",
       "  <iframe src=\"/app/endpoints/3264436808054405844d283142e63771/\" width=1900px height=900px frameborder=\"0\"></iframe>\n",
       "  <hr/><a href=\"/app/endpoints/3264436808054405844d283142e63771/\" target=\"_new\">Open in new window</a> for /app/endpoints/3264436808054405844d283142e63771/\n",
       "</div>"
      ],
      "text/plain": [
       "<jupyter_plotly_dash.dash_wrapper.JupyterDash at 0x2263d56f6d8>"
      ]
     },
     "execution_count": 3,
     "metadata": {},
     "output_type": "execute_result"
    }
   ],
   "source": [
    "app2"
   ]
  },
  {
   "cell_type": "code",
   "execution_count": 4,
   "metadata": {
    "slideshow": {
     "slide_type": "slide"
    }
   },
   "outputs": [
    {
     "data": {
      "text/html": [
       "<div>\n",
       "  <iframe src=\"/app/endpoints/7b831a8cc9a34223ba2d090616868ab8/\" width=1900px height=900px frameborder=\"0\"></iframe>\n",
       "  <hr/><a href=\"/app/endpoints/7b831a8cc9a34223ba2d090616868ab8/\" target=\"_new\">Open in new window</a> for /app/endpoints/7b831a8cc9a34223ba2d090616868ab8/\n",
       "</div>"
      ],
      "text/plain": [
       "<jupyter_plotly_dash.dash_wrapper.JupyterDash at 0x22640b1e8d0>"
      ]
     },
     "execution_count": 4,
     "metadata": {},
     "output_type": "execute_result"
    }
   ],
   "source": [
    "app3"
   ]
  },
  {
   "cell_type": "markdown",
   "metadata": {
    "slideshow": {
     "slide_type": "slide"
    }
   },
   "source": [
    "## Neural Networks\n",
    "### Feed-forward NN\n",
    "<img src=\"https://github.com/mtl-brainhack-school-2019/AtrophiedBrain-machine-learning-parameter-estimation/raw/master/figures/ff_nn.PNG\">"
   ]
  },
  {
   "cell_type": "markdown",
   "metadata": {
    "slideshow": {
     "slide_type": "subslide"
    }
   },
   "source": [
    "#### Feed-forward NN trajectories after 3620 training epochs\n",
    "<img src=\"https://github.com/mtl-brainhack-school-2019/AtrophiedBrain-machine-learning-parameter-estimation/raw/master/figures/ffnn_181.png\">"
   ]
  },
  {
   "cell_type": "markdown",
   "metadata": {
    "slideshow": {
     "slide_type": "subslide"
    }
   },
   "source": [
    "#### Feed-forward NN trajectories after 120 training epochs\n",
    "<img src=\"https://github.com/mtl-brainhack-school-2019/AtrophiedBrain-machine-learning-parameter-estimation/raw/master/figures/ffnn_011.png\">\n"
   ]
  },
  {
   "cell_type": "markdown",
   "metadata": {
    "slideshow": {
     "slide_type": "slide"
    }
   },
   "source": [
    "### Derivative layer, followed by Feed-forward NN\n",
    "<img src=\"https://github.com/mtl-brainhack-school-2019/AtrophiedBrain-machine-learning-parameter-estimation/raw/master/figures/d_ff_nn.PNG\">"
   ]
  },
  {
   "cell_type": "markdown",
   "metadata": {
    "slideshow": {
     "slide_type": "subslide"
    }
   },
   "source": [
    "#### Derivative layer followed by Feed-forward NN trajectories after 120 training epochs\n",
    "<img src=\"https://github.com/mtl-brainhack-school-2019/AtrophiedBrain-machine-learning-parameter-estimation/raw/master/figures/dffnn_011.png\">"
   ]
  },
  {
   "cell_type": "markdown",
   "metadata": {
    "slideshow": {
     "slide_type": "slide"
    }
   },
   "source": [
    "### Derivative layer\n",
    "<img src=\"https://github.com/mtl-brainhack-school-2019/AtrophiedBrain-machine-learning-parameter-estimation/raw/master/figures/d_nn.PNG\">"
   ]
  },
  {
   "cell_type": "markdown",
   "metadata": {
    "slideshow": {
     "slide_type": "subslide"
    }
   },
   "source": [
    "#### Derivative layer trajectories after 120 training epochs\n",
    "<img src=\"https://github.com/mtl-brainhack-school-2019/AtrophiedBrain-machine-learning-parameter-estimation/raw/master/figures/d_012.png\">"
   ]
  },
  {
   "cell_type": "markdown",
   "metadata": {
    "slideshow": {
     "slide_type": "slide"
    }
   },
   "source": [
    "### NN recap\n",
    "<img src=\"https://github.com/mtl-brainhack-school-2019/AtrophiedBrain-machine-learning-parameter-estimation/raw/master/figures/all_3_011.PNG\">"
   ]
  },
  {
   "cell_type": "markdown",
   "metadata": {
    "slideshow": {
     "slide_type": "slide"
    }
   },
   "source": [
    "## Next step: NN to estimate model parameters\n",
    "<img src=\"https://github.com/mtl-brainhack-school-2019/AtrophiedBrain-machine-learning-parameter-estimation/raw/master/figures/generator_nn.PNG\">\n",
    "https://arxiv.org/abs/1806.07366"
   ]
  },
  {
   "cell_type": "markdown",
   "metadata": {
    "slideshow": {
     "slide_type": "subslide"
    }
   },
   "source": [
    "#### Progress: half-way to half-way there?\n",
    "\n",
    "```julia\n",
    "m = Chain(\n",
    "  Dense(datasize,datasize),\n",
    "  LSTM(datasize, 256),\n",
    "  LSTM(256, 128),\n",
    "  Dense(128, 1, tanh))\n",
    "\n",
    "function loss(xs, ys)\n",
    "    preds = m(xs)\n",
    "    l = sum(Flux.mse.(preds, ys))\n",
    "    Flux.truncate!(m)\n",
    "    return l\n",
    "end\n",
    "\n",
    "opt = ADAM(0.01)\n",
    "tx, ty = (X_train[2], Y_train[2])\n",
    "evalcb = () -> @show loss(tx, ty)\n",
    "\n",
    "@epochs 10 Flux.train!(loss, params(m), zip(X_train, Y_train), opt,\n",
    "            cb = Flux.throttle(evalcb, 500))\n",
    "```\n",
    "\n",
    "Output:\n",
    "<img src=\"https://github.com/mtl-brainhack-school-2019/AtrophiedBrain-machine-learning-parameter-estimation/raw/master/figures/julia_repl.png\">"
   ]
  },
  {
   "cell_type": "markdown",
   "metadata": {
    "slideshow": {
     "slide_type": "slide"
    }
   },
   "source": [
    "## Questions?\n",
    "<div>\n",
    "<div style=\"float: left;\">\n",
    "<img src=\"https://conp.ca/wp-content/uploads/2019/07/brainhack-800x450.png\" width=200>\n",
    "<img src=\"https://acelab.ca/assets/MCIN-logo-V01.png\" width=256>\n",
    "<img src=\"https://raw.githubusercontent.com/mtl-brainhack-school-2019/AtrophiedBrain-machine-learning-parameter-estimation/master/figures/neurotext_november_2016_0.jpg\">\n",
    "</div>\n",
    "<div style=\"float: left;\">\n",
    "<img src=\"http://www.vanier.gc.ca/images/vanier_logo.png\" width=200>\n",
    "<img src=\"https://github.com/mtl-brainhack-school-2019/AtrophiedBrain-machine-learning-parameter-estimation/raw/master/figures/hbhl_logo.jpg\">\n",
    "</div></div>"
   ]
  }
 ],
 "metadata": {
  "@webio": {
   "lastCommId": null,
   "lastKernelId": null
  },
  "celltoolbar": "Slideshow",
  "kernelspec": {
   "display_name": "Python 3",
   "language": "python",
   "name": "python3"
  },
  "language_info": {
   "codemirror_mode": {
    "name": "ipython",
    "version": 3
   },
   "file_extension": ".py",
   "mimetype": "text/x-python",
   "name": "python",
   "nbconvert_exporter": "python",
   "pygments_lexer": "ipython3",
   "version": "3.6.7"
  },
  "pycharm": {
   "stem_cell": {
    "cell_type": "raw",
    "source": [],
    "metadata": {
     "collapsed": false
    }
   }
  }
 },
 "nbformat": 4,
 "nbformat_minor": 4
}